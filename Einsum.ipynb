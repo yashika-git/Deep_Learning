{
  "nbformat": 4,
  "nbformat_minor": 0,
  "metadata": {
    "colab": {
      "name": "Einsum.ipynb",
      "provenance": [],
      "authorship_tag": "ABX9TyOI+nZzuuEdm6NMnLRSFafu",
      "include_colab_link": true
    },
    "kernelspec": {
      "name": "python3",
      "display_name": "Python 3"
    },
    "language_info": {
      "name": "python"
    }
  },
  "cells": [
    {
      "cell_type": "markdown",
      "metadata": {
        "id": "view-in-github",
        "colab_type": "text"
      },
      "source": [
        "<a href=\"https://colab.research.google.com/github/yashika-git/Deep_Learning/blob/main/Einsum.ipynb\" target=\"_parent\"><img src=\"https://colab.research.google.com/assets/colab-badge.svg\" alt=\"Open In Colab\"/></a>"
      ]
    },
    {
      "cell_type": "code",
      "execution_count": 1,
      "metadata": {
        "id": "Bc_ohdSfiRun"
      },
      "outputs": [],
      "source": [
        "# Einsum is a replacement for\n",
        "# Matrix mult\n",
        "# element wise mult\n",
        "# permutation\n",
        "# dot product\n",
        "# outer product\n",
        "# specific summation\n",
        "# batch matrix multiplication\n",
        "\n",
        "# but it can be slow\n",
        "\n",
        "# Free indices: indices specified in the output\n",
        "# Summation indices: all other indices that appear in the input argument but not in the output specification\n",
        "# np.einsum('ik, kj -> ij', A, B)  i,j are the free indices; k is the summation index\n",
        "\n",
        "# Repeating letters in different inputs mean those values will be multiplied and those products will be the outputs\n",
        "# Omitting a letter means that axis will be summed\n",
        "# We can return the unsummed axis in any order "
      ]
    },
    {
      "cell_type": "code",
      "source": [
        "import torch\n",
        "x = torch.rand((2,3))\n",
        "x"
      ],
      "metadata": {
        "colab": {
          "base_uri": "https://localhost:8080/"
        },
        "id": "MsdC14mHqCsx",
        "outputId": "1d9957c3-55f2-4e95-83de-1fe7f7c10580"
      },
      "execution_count": 7,
      "outputs": [
        {
          "output_type": "execute_result",
          "data": {
            "text/plain": [
              "tensor([[0.0351, 0.1676, 0.7132],\n",
              "        [0.9975, 0.6175, 0.9872]])"
            ]
          },
          "metadata": {},
          "execution_count": 7
        }
      ]
    },
    {
      "cell_type": "code",
      "source": [
        "# permutation of tensors\n",
        "torch.einsum('ij -> ji', x)  "
      ],
      "metadata": {
        "colab": {
          "base_uri": "https://localhost:8080/"
        },
        "id": "nWy6ib8Xqc3p",
        "outputId": "ee4ee464-1411-4b24-cd38-75ada269e189"
      },
      "execution_count": 8,
      "outputs": [
        {
          "output_type": "execute_result",
          "data": {
            "text/plain": [
              "tensor([[0.0351, 0.9975],\n",
              "        [0.1676, 0.6175],\n",
              "        [0.7132, 0.9872]])"
            ]
          },
          "metadata": {},
          "execution_count": 8
        }
      ]
    },
    {
      "cell_type": "code",
      "source": [
        "# summation\n",
        "torch.einsum('ij ->', x)"
      ],
      "metadata": {
        "colab": {
          "base_uri": "https://localhost:8080/"
        },
        "id": "UOZhbAmuqkJr",
        "outputId": "54294c90-9507-4011-efe7-896991a19e0f"
      },
      "execution_count": 9,
      "outputs": [
        {
          "output_type": "execute_result",
          "data": {
            "text/plain": [
              "tensor(3.5181)"
            ]
          },
          "metadata": {},
          "execution_count": 9
        }
      ]
    },
    {
      "cell_type": "code",
      "source": [
        "# column sum\n",
        "torch.einsum('ij -> j', x)"
      ],
      "metadata": {
        "colab": {
          "base_uri": "https://localhost:8080/"
        },
        "id": "FCcqaLFtq0C9",
        "outputId": "6fe8e558-77c2-4d16-f8e6-8173fff3208c"
      },
      "execution_count": 10,
      "outputs": [
        {
          "output_type": "execute_result",
          "data": {
            "text/plain": [
              "tensor([1.0326, 0.7851, 1.7004])"
            ]
          },
          "metadata": {},
          "execution_count": 10
        }
      ]
    },
    {
      "cell_type": "code",
      "source": [
        "# row sum\n",
        "torch.einsum('ij -> i', x)"
      ],
      "metadata": {
        "colab": {
          "base_uri": "https://localhost:8080/"
        },
        "id": "jo-hdUZDrX6H",
        "outputId": "bf4632f6-7494-4162-97e3-93da68868f84"
      },
      "execution_count": 11,
      "outputs": [
        {
          "output_type": "execute_result",
          "data": {
            "text/plain": [
              "tensor([0.9159, 2.6022])"
            ]
          },
          "metadata": {},
          "execution_count": 11
        }
      ]
    },
    {
      "cell_type": "code",
      "source": [
        "# matrix-vector multiplication\n",
        "v = torch.rand((1, 3))\n",
        "torch.einsum('ij, kj -> ik', x, v)"
      ],
      "metadata": {
        "colab": {
          "base_uri": "https://localhost:8080/"
        },
        "id": "01iXe2r0rg9F",
        "outputId": "76f7c16d-7739-4a29-b775-4f5ef55df832"
      },
      "execution_count": 15,
      "outputs": [
        {
          "output_type": "execute_result",
          "data": {
            "text/plain": [
              "tensor([[0.3771],\n",
              "        [1.5684]])"
            ]
          },
          "metadata": {},
          "execution_count": 15
        }
      ]
    },
    {
      "cell_type": "code",
      "source": [
        "# matrix-matrix multiplication\n",
        "# x.mm(x.t())\n",
        "torch.einsum('ij,kj->ik', x, x)"
      ],
      "metadata": {
        "colab": {
          "base_uri": "https://localhost:8080/"
        },
        "id": "d3jzz6qArklI",
        "outputId": "7145d9c2-3084-42d6-a604-b6ca39d68e23"
      },
      "execution_count": 16,
      "outputs": [
        {
          "output_type": "execute_result",
          "data": {
            "text/plain": [
              "tensor([[0.5380, 0.8426],\n",
              "        [0.8426, 2.3509]])"
            ]
          },
          "metadata": {},
          "execution_count": 16
        }
      ]
    },
    {
      "cell_type": "code",
      "source": [
        "# Dot product first row with first row of matrix\n",
        "torch.einsum('i, i -> ', x[0], x[0])"
      ],
      "metadata": {
        "colab": {
          "base_uri": "https://localhost:8080/"
        },
        "id": "6A39XBCbrmP1",
        "outputId": "7c18bc51-8655-4d5c-8910-e0a895f41a8f"
      },
      "execution_count": 17,
      "outputs": [
        {
          "output_type": "execute_result",
          "data": {
            "text/plain": [
              "tensor(0.5380)"
            ]
          },
          "metadata": {},
          "execution_count": 17
        }
      ]
    },
    {
      "cell_type": "code",
      "source": [
        "# Dot product with matrix\n",
        "torch.einsum('ij, ij ->', x, x)"
      ],
      "metadata": {
        "colab": {
          "base_uri": "https://localhost:8080/"
        },
        "id": "qZQhiaFFy5-N",
        "outputId": "50c13b38-604e-416c-8833-67a70ab3dcc8"
      },
      "execution_count": 18,
      "outputs": [
        {
          "output_type": "execute_result",
          "data": {
            "text/plain": [
              "tensor(2.8889)"
            ]
          },
          "metadata": {},
          "execution_count": 18
        }
      ]
    },
    {
      "cell_type": "code",
      "source": [
        "# Hadmard Product (Element-wise multiplication)\n",
        "torch.einsum('ij, ij -> ij', x, x)"
      ],
      "metadata": {
        "id": "WYh6QznG1pCE",
        "outputId": "29c4a1b1-f17a-43de-ac8b-86ec84cfbaca",
        "colab": {
          "base_uri": "https://localhost:8080/"
        }
      },
      "execution_count": 19,
      "outputs": [
        {
          "output_type": "execute_result",
          "data": {
            "text/plain": [
              "tensor([[0.0012, 0.0281, 0.5086],\n",
              "        [0.9951, 0.3813, 0.9746]])"
            ]
          },
          "metadata": {},
          "execution_count": 19
        }
      ]
    },
    {
      "cell_type": "code",
      "source": [
        "# Outer product\n",
        "a = torch.rand((3))\n",
        "b = torch.rand((5))\n",
        "torch.einsum('i, j -> ij', a, b)"
      ],
      "metadata": {
        "id": "Yza3ZgwX14BA",
        "outputId": "62f0a368-1944-4454-c9ff-6f9c45ad9afd",
        "colab": {
          "base_uri": "https://localhost:8080/"
        }
      },
      "execution_count": 20,
      "outputs": [
        {
          "output_type": "execute_result",
          "data": {
            "text/plain": [
              "tensor([[0.3832, 0.3779, 0.6246, 0.0813, 0.1030],\n",
              "        [0.1362, 0.1343, 0.2221, 0.0289, 0.0366],\n",
              "        [0.2626, 0.2590, 0.4281, 0.0557, 0.0706]])"
            ]
          },
          "metadata": {},
          "execution_count": 20
        }
      ]
    },
    {
      "cell_type": "code",
      "source": [
        "# Batch matrix multiplication\n",
        "a = torch.rand((3, 2, 5))\n",
        "b = torch.rand((3, 5, 3))\n",
        "torch.einsum('ijk, ikl -> ijl', a, b)"
      ],
      "metadata": {
        "id": "p2KVK-kX2KGQ",
        "outputId": "25eec5e8-a99c-42d7-bb37-d0686c2f95de",
        "colab": {
          "base_uri": "https://localhost:8080/"
        }
      },
      "execution_count": 21,
      "outputs": [
        {
          "output_type": "execute_result",
          "data": {
            "text/plain": [
              "tensor([[[1.1196, 1.4078, 1.2437],\n",
              "         [0.7102, 0.9587, 1.2213]],\n",
              "\n",
              "        [[1.8401, 2.1103, 2.2985],\n",
              "         [0.8381, 1.0935, 1.5373]],\n",
              "\n",
              "        [[0.9451, 0.7147, 1.0670],\n",
              "         [1.7880, 1.5639, 1.6733]]])"
            ]
          },
          "metadata": {},
          "execution_count": 21
        }
      ]
    },
    {
      "cell_type": "code",
      "source": [
        "# Matrix Diagonal\n",
        "x = torch.rand((3, 3))\n",
        "print(x)\n",
        "torch.einsum('ii -> i', x)"
      ],
      "metadata": {
        "id": "PdmwcnfD2trW",
        "outputId": "2af8193d-54c3-460f-9cbc-fa9da722f424",
        "colab": {
          "base_uri": "https://localhost:8080/"
        }
      },
      "execution_count": 23,
      "outputs": [
        {
          "output_type": "stream",
          "name": "stdout",
          "text": [
            "tensor([[0.0169, 0.9172, 0.5290],\n",
            "        [0.5596, 0.6757, 0.8010],\n",
            "        [0.9326, 0.2544, 0.5310]])\n"
          ]
        },
        {
          "output_type": "execute_result",
          "data": {
            "text/plain": [
              "tensor([0.0169, 0.6757, 0.5310])"
            ]
          },
          "metadata": {},
          "execution_count": 23
        }
      ]
    },
    {
      "cell_type": "code",
      "source": [
        "# Matrix Trace\n",
        "torch.einsum('ii ->', x)"
      ],
      "metadata": {
        "id": "6MYEZj1i3Cmv",
        "outputId": "2dc717bb-12f6-45d4-c468-4236fe8da196",
        "colab": {
          "base_uri": "https://localhost:8080/"
        }
      },
      "execution_count": 24,
      "outputs": [
        {
          "output_type": "execute_result",
          "data": {
            "text/plain": [
              "tensor(1.2236)"
            ]
          },
          "metadata": {},
          "execution_count": 24
        }
      ]
    },
    {
      "cell_type": "code",
      "source": [
        "# Reference: https://www.youtube.com/watch?v=pkVwUVEHmfI&list=PLhhyoLH6IjfxeoooqP9rhU3HJIAVAJ3Vz&index=38"
      ],
      "metadata": {
        "id": "3l9CajHn3MTd"
      },
      "execution_count": null,
      "outputs": []
    }
  ]
}